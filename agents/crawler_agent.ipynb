{
 "cells": [
  {
   "cell_type": "markdown",
   "id": "22d541da",
   "metadata": {},
   "source": [
    "**Web Scraping Agent**"
   ]
  }
 ],
 "metadata": {
  "language_info": {
   "name": "python"
  }
 },
 "nbformat": 4,
 "nbformat_minor": 5
}
